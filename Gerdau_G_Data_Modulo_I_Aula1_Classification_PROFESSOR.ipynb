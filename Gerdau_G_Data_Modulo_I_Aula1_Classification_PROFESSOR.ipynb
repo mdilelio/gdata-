{
  "nbformat": 4,
  "nbformat_minor": 0,
  "metadata": {
    "kernelspec": {
      "display_name": "Python 3",
      "language": "python",
      "name": "python3"
    },
    "language_info": {
      "codemirror_mode": {
        "name": "ipython",
        "version": 3
      },
      "file_extension": ".py",
      "mimetype": "text/x-python",
      "name": "python",
      "nbconvert_exporter": "python",
      "pygments_lexer": "ipython3",
      "version": "3.7.3"
    },
    "colab": {
      "name": "Gerdau_G_Data_Modulo_I_Aula1_Classification_PROFESSOR.ipynb",
      "provenance": [],
      "collapsed_sections": []
    }
  },
  "cells": [
    {
      "cell_type": "markdown",
      "metadata": {
        "id": "TFlx0ojupij7"
      },
      "source": [
        "##1. Definição do Problema de Negócio"
      ]
    },
    {
      "cell_type": "markdown",
      "metadata": {
        "id": "AkkpBrbDWSsB"
      },
      "source": [
        "O Jupyter Notebook pode ser uma ferramenta muito rica que pode contribuir bastante para o desenvolvimento do seu projeto em Ciência de Dados no Programa G. Data da Gerdau. Como uma atividade interessante para a formação do seu notebook, adicione na próxima célula uma figura que ilustre o seu problemas de negócio. "
      ]
    },
    {
      "cell_type": "markdown",
      "metadata": {
        "id": "2HZBeo-6Wli7"
      },
      "source": [
        "Segue abaixo o comando para acrescentar uma imagem em uma **CÉLULAR DO TIPO TEXTO** no seu notebook. A próxima célula apresenta um exemplo de comando que mostra uma imagem qualquer (randômica) extraída do site unplash. \n",
        "\n",
        "**TODO #1:**\n",
        "ADICIONE UMA IMAGEM QUE ILUSTRE O PROBLEMA QUE O SEU PROJETO DE DATA SCIENCE DEVE RESOLVER DENTRO DO PROGRAMA ELITA DOS DADOS. \n"
      ]
    },
    {
      "cell_type": "markdown",
      "metadata": {
        "id": "GEebDeTZ1Cjs"
      },
      "source": [
        "![Titulo da Imagem](https://source.unsplash.com/random)"
      ]
    },
    {
      "cell_type": "markdown",
      "metadata": {
        "id": "iXq76_eDppKI"
      },
      "source": [
        "A **Gerdau** identificou a necessidade de maior acurácia com relação ao processo de fabricação de produtos planos. Esta é uma das principais fontes de receita da empresa e está passando atualmente por uma revisão do seu processo de fabricação. Além disso existe a determinação por parte do CEO da busca constante por inovação associado ao seu processo produtivo.\n",
        "\n",
        "**Problemática:** A não identificação de falhas durante o processo de  fabricação de produtos planos está causando prejuízos financeiros à fábrica. \n",
        "\n",
        "**Possível solução:** A partir da identificação de um conjunto de dados históricos relacionados a fabricação de produtos planos com suas respectivas classificações (tipos de falhas), seria possível treinar um modelo de Aprendizagem de Máquina para predizer a probabilidade de ocorrência de um tipo de falha antes que a falha efetivamente ocorra (ainda no início do processo produtivo).\n"
      ]
    },
    {
      "cell_type": "markdown",
      "metadata": {
        "id": "RWfO6VW_4WKg"
      },
      "source": [
        "## 2.Importando as bibliotecas necessárias\n"
      ]
    },
    {
      "cell_type": "code",
      "metadata": {
        "id": "U3NEU2d_KtY-",
        "colab": {
          "base_uri": "https://localhost:8080/"
        },
        "outputId": "98101e12-0e07-40d7-d5a0-6568f5d416bb"
      },
      "source": [
        "# Bibliotecas de manipulação de dados\n",
        "import numpy as np\n",
        "import pandas as pd\n",
        "\n",
        "# Separando o dataset em treinamento e teste\n",
        "from sklearn.model_selection import train_test_split\n",
        "\n",
        "# Feature Scaling\n",
        "from sklearn.preprocessing import StandardScaler\n",
        "\n",
        "# Modelos para Aprendizagem de Máquina\n",
        "from sklearn.linear_model import LogisticRegression\n",
        "\n",
        "# TODO #2: Além da importação do modelo de LogisticRegression do sklearn acima adicione também a importação \n",
        "# do modelo de Arvore de Decisão  - DecisionTree\n",
        "from sklearn.tree import DecisionTreeClassifier\n",
        "\n",
        "# Métricas para avaliação dos modelos\n",
        "from sklearn.metrics import accuracy_score\n",
        "\n",
        "# Bibliotecas de vizualização de dados\n",
        "import matplotlib.pyplot as plt\n",
        "import seaborn as sns\n",
        "\n",
        "# Para ignorar warnings de bibliotecas deprecated\n",
        "import warnings\n",
        "warnings.filterwarnings('ignore')\n",
        "\n",
        "# Verificando as versões das bibliotecas pandas de numpy\n",
        "print(pd.__version__)\n",
        "print(np.__version__)\n",
        "\n",
        "# Alterando as configurações de apresentação de linhas e colunas \n",
        "# pd.set_option('display.max_rows', None)\n",
        "# pd.set_option('display.max_columns', None)"
      ],
      "execution_count": null,
      "outputs": [
        {
          "output_type": "stream",
          "text": [
            "1.1.5\n",
            "1.19.5\n"
          ],
          "name": "stdout"
        }
      ]
    },
    {
      "cell_type": "markdown",
      "metadata": {
        "id": "RFxi-67tLGm5"
      },
      "source": [
        "\n",
        "## 3. Realizando a carga dos dados\n"
      ]
    },
    {
      "cell_type": "code",
      "metadata": {
        "id": "xZqww75WKtZB"
      },
      "source": [
        "# TODO: Realizar a carga dos dados do arquivo steel_faults_with_target.csv\n",
        "# steel = pd.read_csv('/content/steel_faults_with_target.csv')\n",
        "\n",
        "# TODO 3: Realizar a carga dos dados do arquivo steel_faults_with_target.csv\n",
        "\n",
        "import boto3\n",
        "\n",
        "import awswrangler as wr\n",
        "\n",
        "boto3.setup_default_session(region_name=\"us-east-2\")\n",
        "\n",
        "wr.catalog.get_table_location(database='db_gdata_2021', table='steel')\n",
        "\n",
        "steel=wr.s3.read_csv('s3://gerdau-analytics/gdata/steel/')"
      ],
      "execution_count": null,
      "outputs": []
    },
    {
      "cell_type": "code",
      "metadata": {
        "colab": {
          "base_uri": "https://localhost:8080/",
          "height": 223
        },
        "id": "GhItbYYUpoZs",
        "outputId": "bd36081b-33fa-427a-ab52-8a3a0f7d5fdd"
      },
      "source": [
        "steel.head()"
      ],
      "execution_count": null,
      "outputs": [
        {
          "output_type": "execute_result",
          "data": {
            "text/html": [
              "<div>\n",
              "<style scoped>\n",
              "    .dataframe tbody tr th:only-of-type {\n",
              "        vertical-align: middle;\n",
              "    }\n",
              "\n",
              "    .dataframe tbody tr th {\n",
              "        vertical-align: top;\n",
              "    }\n",
              "\n",
              "    .dataframe thead th {\n",
              "        text-align: right;\n",
              "    }\n",
              "</style>\n",
              "<table border=\"1\" class=\"dataframe\">\n",
              "  <thead>\n",
              "    <tr style=\"text-align: right;\">\n",
              "      <th></th>\n",
              "      <th>TARGET</th>\n",
              "      <th>X_Minimum</th>\n",
              "      <th>X_Maximum</th>\n",
              "      <th>Y_Minimum</th>\n",
              "      <th>Y_Maximum</th>\n",
              "      <th>Pixels_Areas</th>\n",
              "      <th>X_Perimeter</th>\n",
              "      <th>Y_Perimeter</th>\n",
              "      <th>Sum_of_Luminosity</th>\n",
              "      <th>Minimum_of_Luminosity</th>\n",
              "      <th>Maximum_of_Luminosity</th>\n",
              "      <th>Length_of_Conveyer</th>\n",
              "      <th>TypeOfSteel_A300</th>\n",
              "      <th>TypeOfSteel_A400</th>\n",
              "      <th>Steel_Plate_Thickness</th>\n",
              "      <th>Edges_Index</th>\n",
              "      <th>Empty_Index</th>\n",
              "      <th>Square_Index</th>\n",
              "      <th>Outside_X_Index</th>\n",
              "      <th>Edges_X_Index</th>\n",
              "      <th>Edges_Y_Index</th>\n",
              "      <th>Outside_Global_Index</th>\n",
              "      <th>LogOfAreas</th>\n",
              "      <th>Log_X_Index</th>\n",
              "      <th>Log_Y_Index</th>\n",
              "      <th>Orientation_Index</th>\n",
              "      <th>Luminosity_Index</th>\n",
              "      <th>SigmoidOfAreas</th>\n",
              "    </tr>\n",
              "  </thead>\n",
              "  <tbody>\n",
              "    <tr>\n",
              "      <th>0</th>\n",
              "      <td>Pastry</td>\n",
              "      <td>42.0</td>\n",
              "      <td>50.0</td>\n",
              "      <td>270900.0</td>\n",
              "      <td>270944.0</td>\n",
              "      <td>267.0</td>\n",
              "      <td>17.0</td>\n",
              "      <td>44.0</td>\n",
              "      <td>24220.0</td>\n",
              "      <td>76.0</td>\n",
              "      <td>108.0</td>\n",
              "      <td>1687.0</td>\n",
              "      <td>1.0</td>\n",
              "      <td>0.0</td>\n",
              "      <td>80.0</td>\n",
              "      <td>0.0498</td>\n",
              "      <td>0.2415</td>\n",
              "      <td>0.1818</td>\n",
              "      <td>0.0047</td>\n",
              "      <td>0.4706</td>\n",
              "      <td>1.0000</td>\n",
              "      <td>1.0</td>\n",
              "      <td>2.4265</td>\n",
              "      <td>0.9031</td>\n",
              "      <td>1.6435</td>\n",
              "      <td>0.8182</td>\n",
              "      <td>-0.2913</td>\n",
              "      <td>0.5822</td>\n",
              "    </tr>\n",
              "    <tr>\n",
              "      <th>1</th>\n",
              "      <td>Pastry</td>\n",
              "      <td>645.0</td>\n",
              "      <td>651.0</td>\n",
              "      <td>2538079.0</td>\n",
              "      <td>2538108.0</td>\n",
              "      <td>108.0</td>\n",
              "      <td>10.0</td>\n",
              "      <td>30.0</td>\n",
              "      <td>11397.0</td>\n",
              "      <td>84.0</td>\n",
              "      <td>123.0</td>\n",
              "      <td>1687.0</td>\n",
              "      <td>1.0</td>\n",
              "      <td>0.0</td>\n",
              "      <td>80.0</td>\n",
              "      <td>0.7647</td>\n",
              "      <td>0.3793</td>\n",
              "      <td>0.2069</td>\n",
              "      <td>0.0036</td>\n",
              "      <td>0.6000</td>\n",
              "      <td>0.9667</td>\n",
              "      <td>1.0</td>\n",
              "      <td>2.0334</td>\n",
              "      <td>0.7782</td>\n",
              "      <td>1.4624</td>\n",
              "      <td>0.7931</td>\n",
              "      <td>-0.1756</td>\n",
              "      <td>0.2984</td>\n",
              "    </tr>\n",
              "    <tr>\n",
              "      <th>2</th>\n",
              "      <td>Pastry</td>\n",
              "      <td>829.0</td>\n",
              "      <td>835.0</td>\n",
              "      <td>1553913.0</td>\n",
              "      <td>1553931.0</td>\n",
              "      <td>71.0</td>\n",
              "      <td>8.0</td>\n",
              "      <td>19.0</td>\n",
              "      <td>7972.0</td>\n",
              "      <td>99.0</td>\n",
              "      <td>125.0</td>\n",
              "      <td>1623.0</td>\n",
              "      <td>1.0</td>\n",
              "      <td>0.0</td>\n",
              "      <td>100.0</td>\n",
              "      <td>0.9710</td>\n",
              "      <td>0.3426</td>\n",
              "      <td>0.3333</td>\n",
              "      <td>0.0037</td>\n",
              "      <td>0.7500</td>\n",
              "      <td>0.9474</td>\n",
              "      <td>1.0</td>\n",
              "      <td>1.8513</td>\n",
              "      <td>0.7782</td>\n",
              "      <td>1.2553</td>\n",
              "      <td>0.6667</td>\n",
              "      <td>-0.1228</td>\n",
              "      <td>0.2150</td>\n",
              "    </tr>\n",
              "    <tr>\n",
              "      <th>3</th>\n",
              "      <td>Pastry</td>\n",
              "      <td>853.0</td>\n",
              "      <td>860.0</td>\n",
              "      <td>369370.0</td>\n",
              "      <td>369415.0</td>\n",
              "      <td>176.0</td>\n",
              "      <td>13.0</td>\n",
              "      <td>45.0</td>\n",
              "      <td>18996.0</td>\n",
              "      <td>99.0</td>\n",
              "      <td>126.0</td>\n",
              "      <td>1353.0</td>\n",
              "      <td>0.0</td>\n",
              "      <td>1.0</td>\n",
              "      <td>290.0</td>\n",
              "      <td>0.7287</td>\n",
              "      <td>0.4413</td>\n",
              "      <td>0.1556</td>\n",
              "      <td>0.0052</td>\n",
              "      <td>0.5385</td>\n",
              "      <td>1.0000</td>\n",
              "      <td>1.0</td>\n",
              "      <td>2.2455</td>\n",
              "      <td>0.8451</td>\n",
              "      <td>1.6532</td>\n",
              "      <td>0.8444</td>\n",
              "      <td>-0.1568</td>\n",
              "      <td>0.5212</td>\n",
              "    </tr>\n",
              "    <tr>\n",
              "      <th>4</th>\n",
              "      <td>Pastry</td>\n",
              "      <td>1289.0</td>\n",
              "      <td>1306.0</td>\n",
              "      <td>498078.0</td>\n",
              "      <td>498335.0</td>\n",
              "      <td>2409.0</td>\n",
              "      <td>60.0</td>\n",
              "      <td>260.0</td>\n",
              "      <td>246930.0</td>\n",
              "      <td>37.0</td>\n",
              "      <td>126.0</td>\n",
              "      <td>1353.0</td>\n",
              "      <td>0.0</td>\n",
              "      <td>1.0</td>\n",
              "      <td>185.0</td>\n",
              "      <td>0.0695</td>\n",
              "      <td>0.4486</td>\n",
              "      <td>0.0662</td>\n",
              "      <td>0.0126</td>\n",
              "      <td>0.2833</td>\n",
              "      <td>0.9885</td>\n",
              "      <td>1.0</td>\n",
              "      <td>3.3818</td>\n",
              "      <td>1.2305</td>\n",
              "      <td>2.4099</td>\n",
              "      <td>0.9338</td>\n",
              "      <td>-0.1992</td>\n",
              "      <td>1.0000</td>\n",
              "    </tr>\n",
              "  </tbody>\n",
              "</table>\n",
              "</div>"
            ],
            "text/plain": [
              "   TARGET  X_Minimum  ...  Luminosity_Index  SigmoidOfAreas\n",
              "0  Pastry       42.0  ...           -0.2913          0.5822\n",
              "1  Pastry      645.0  ...           -0.1756          0.2984\n",
              "2  Pastry      829.0  ...           -0.1228          0.2150\n",
              "3  Pastry      853.0  ...           -0.1568          0.5212\n",
              "4  Pastry     1289.0  ...           -0.1992          1.0000\n",
              "\n",
              "[5 rows x 28 columns]"
            ]
          },
          "metadata": {
            "tags": []
          },
          "execution_count": 3
        }
      ]
    },
    {
      "cell_type": "markdown",
      "metadata": {
        "id": "PlttzYBk6Pqi"
      },
      "source": [
        "### Tratamento para padronização das colunas do dataset"
      ]
    },
    {
      "cell_type": "code",
      "metadata": {
        "colab": {
          "base_uri": "https://localhost:8080/"
        },
        "id": "sGx9Xbsx6OzK",
        "outputId": "ebc3ae4b-2b2c-4440-fcba-a2a57c016987"
      },
      "source": [
        "steel.columns"
      ],
      "execution_count": null,
      "outputs": [
        {
          "output_type": "execute_result",
          "data": {
            "text/plain": [
              "Index(['TARGET', 'X_Minimum', 'X_Maximum', 'Y_Minimum', 'Y_Maximum',\n",
              "       'Pixels_Areas', 'X_Perimeter', 'Y_Perimeter', 'Sum_of_Luminosity',\n",
              "       'Minimum_of_Luminosity', 'Maximum_of_Luminosity', 'Length_of_Conveyer',\n",
              "       'TypeOfSteel_A300', 'TypeOfSteel_A400', 'Steel_Plate_Thickness',\n",
              "       'Edges_Index', 'Empty_Index', 'Square_Index', 'Outside_X_Index',\n",
              "       'Edges_X_Index', 'Edges_Y_Index', 'Outside_Global_Index', 'LogOfAreas',\n",
              "       'Log_X_Index', 'Log_Y_Index', 'Orientation_Index', 'Luminosity_Index',\n",
              "       'SigmoidOfAreas'],\n",
              "      dtype='object')"
            ]
          },
          "metadata": {
            "tags": []
          },
          "execution_count": 4
        }
      ]
    },
    {
      "cell_type": "code",
      "metadata": {
        "colab": {
          "base_uri": "https://localhost:8080/"
        },
        "id": "6RvfS1P96WC-",
        "outputId": "0011d324-81c2-49e4-e2d5-d0c1b3dbd7a3"
      },
      "source": [
        "steel.columns = steel.columns.str.upper()\n",
        "steel.columns"
      ],
      "execution_count": null,
      "outputs": [
        {
          "output_type": "execute_result",
          "data": {
            "text/plain": [
              "Index(['TARGET', 'X_MINIMUM', 'X_MAXIMUM', 'Y_MINIMUM', 'Y_MAXIMUM',\n",
              "       'PIXELS_AREAS', 'X_PERIMETER', 'Y_PERIMETER', 'SUM_OF_LUMINOSITY',\n",
              "       'MINIMUM_OF_LUMINOSITY', 'MAXIMUM_OF_LUMINOSITY', 'LENGTH_OF_CONVEYER',\n",
              "       'TYPEOFSTEEL_A300', 'TYPEOFSTEEL_A400', 'STEEL_PLATE_THICKNESS',\n",
              "       'EDGES_INDEX', 'EMPTY_INDEX', 'SQUARE_INDEX', 'OUTSIDE_X_INDEX',\n",
              "       'EDGES_X_INDEX', 'EDGES_Y_INDEX', 'OUTSIDE_GLOBAL_INDEX', 'LOGOFAREAS',\n",
              "       'LOG_X_INDEX', 'LOG_Y_INDEX', 'ORIENTATION_INDEX', 'LUMINOSITY_INDEX',\n",
              "       'SIGMOIDOFAREAS'],\n",
              "      dtype='object')"
            ]
          },
          "metadata": {
            "tags": []
          },
          "execution_count": 5
        }
      ]
    },
    {
      "cell_type": "markdown",
      "metadata": {
        "id": "JFVVtjx_5r5m"
      },
      "source": [
        "## 4. Análise Exploratória dos Dados"
      ]
    },
    {
      "cell_type": "code",
      "metadata": {
        "id": "0ah1KbP_KtZE",
        "colab": {
          "base_uri": "https://localhost:8080/",
          "height": 881
        },
        "outputId": "a8625afc-6294-42e9-dda1-7240b1b07592"
      },
      "source": [
        "# TODO: Apresentar informações estatísticas descritivas do dataset\n",
        "steel.describe().T"
      ],
      "execution_count": null,
      "outputs": [
        {
          "output_type": "execute_result",
          "data": {
            "text/html": [
              "<div>\n",
              "<style scoped>\n",
              "    .dataframe tbody tr th:only-of-type {\n",
              "        vertical-align: middle;\n",
              "    }\n",
              "\n",
              "    .dataframe tbody tr th {\n",
              "        vertical-align: top;\n",
              "    }\n",
              "\n",
              "    .dataframe thead th {\n",
              "        text-align: right;\n",
              "    }\n",
              "</style>\n",
              "<table border=\"1\" class=\"dataframe\">\n",
              "  <thead>\n",
              "    <tr style=\"text-align: right;\">\n",
              "      <th></th>\n",
              "      <th>count</th>\n",
              "      <th>mean</th>\n",
              "      <th>std</th>\n",
              "      <th>min</th>\n",
              "      <th>25%</th>\n",
              "      <th>50%</th>\n",
              "      <th>75%</th>\n",
              "      <th>max</th>\n",
              "    </tr>\n",
              "  </thead>\n",
              "  <tbody>\n",
              "    <tr>\n",
              "      <th>X_MINIMUM</th>\n",
              "      <td>1941.0</td>\n",
              "      <td>5.711360e+02</td>\n",
              "      <td>5.206907e+02</td>\n",
              "      <td>0.0000</td>\n",
              "      <td>51.0000</td>\n",
              "      <td>4.350000e+02</td>\n",
              "      <td>1.053000e+03</td>\n",
              "      <td>1.705000e+03</td>\n",
              "    </tr>\n",
              "    <tr>\n",
              "      <th>X_MAXIMUM</th>\n",
              "      <td>1941.0</td>\n",
              "      <td>6.179645e+02</td>\n",
              "      <td>4.976274e+02</td>\n",
              "      <td>4.0000</td>\n",
              "      <td>192.0000</td>\n",
              "      <td>4.670000e+02</td>\n",
              "      <td>1.072000e+03</td>\n",
              "      <td>1.713000e+03</td>\n",
              "    </tr>\n",
              "    <tr>\n",
              "      <th>Y_MINIMUM</th>\n",
              "      <td>1941.0</td>\n",
              "      <td>1.650685e+06</td>\n",
              "      <td>1.774578e+06</td>\n",
              "      <td>6712.0000</td>\n",
              "      <td>471253.0000</td>\n",
              "      <td>1.204128e+06</td>\n",
              "      <td>2.183073e+06</td>\n",
              "      <td>1.298766e+07</td>\n",
              "    </tr>\n",
              "    <tr>\n",
              "      <th>Y_MAXIMUM</th>\n",
              "      <td>1941.0</td>\n",
              "      <td>1.650739e+06</td>\n",
              "      <td>1.774590e+06</td>\n",
              "      <td>6724.0000</td>\n",
              "      <td>471281.0000</td>\n",
              "      <td>1.204136e+06</td>\n",
              "      <td>2.183084e+06</td>\n",
              "      <td>1.298769e+07</td>\n",
              "    </tr>\n",
              "    <tr>\n",
              "      <th>PIXELS_AREAS</th>\n",
              "      <td>1941.0</td>\n",
              "      <td>1.893878e+03</td>\n",
              "      <td>5.168460e+03</td>\n",
              "      <td>2.0000</td>\n",
              "      <td>84.0000</td>\n",
              "      <td>1.740000e+02</td>\n",
              "      <td>8.220000e+02</td>\n",
              "      <td>1.526550e+05</td>\n",
              "    </tr>\n",
              "    <tr>\n",
              "      <th>X_PERIMETER</th>\n",
              "      <td>1941.0</td>\n",
              "      <td>1.118552e+02</td>\n",
              "      <td>3.012092e+02</td>\n",
              "      <td>2.0000</td>\n",
              "      <td>15.0000</td>\n",
              "      <td>2.600000e+01</td>\n",
              "      <td>8.400000e+01</td>\n",
              "      <td>1.044900e+04</td>\n",
              "    </tr>\n",
              "    <tr>\n",
              "      <th>Y_PERIMETER</th>\n",
              "      <td>1941.0</td>\n",
              "      <td>8.296600e+01</td>\n",
              "      <td>4.264829e+02</td>\n",
              "      <td>1.0000</td>\n",
              "      <td>13.0000</td>\n",
              "      <td>2.500000e+01</td>\n",
              "      <td>8.300000e+01</td>\n",
              "      <td>1.815200e+04</td>\n",
              "    </tr>\n",
              "    <tr>\n",
              "      <th>SUM_OF_LUMINOSITY</th>\n",
              "      <td>1941.0</td>\n",
              "      <td>2.063121e+05</td>\n",
              "      <td>5.122936e+05</td>\n",
              "      <td>250.0000</td>\n",
              "      <td>9522.0000</td>\n",
              "      <td>1.920200e+04</td>\n",
              "      <td>8.301100e+04</td>\n",
              "      <td>1.159141e+07</td>\n",
              "    </tr>\n",
              "    <tr>\n",
              "      <th>MINIMUM_OF_LUMINOSITY</th>\n",
              "      <td>1941.0</td>\n",
              "      <td>8.454869e+01</td>\n",
              "      <td>3.213428e+01</td>\n",
              "      <td>0.0000</td>\n",
              "      <td>63.0000</td>\n",
              "      <td>9.000000e+01</td>\n",
              "      <td>1.060000e+02</td>\n",
              "      <td>2.030000e+02</td>\n",
              "    </tr>\n",
              "    <tr>\n",
              "      <th>MAXIMUM_OF_LUMINOSITY</th>\n",
              "      <td>1941.0</td>\n",
              "      <td>1.301937e+02</td>\n",
              "      <td>1.869099e+01</td>\n",
              "      <td>37.0000</td>\n",
              "      <td>124.0000</td>\n",
              "      <td>1.270000e+02</td>\n",
              "      <td>1.400000e+02</td>\n",
              "      <td>2.530000e+02</td>\n",
              "    </tr>\n",
              "    <tr>\n",
              "      <th>LENGTH_OF_CONVEYER</th>\n",
              "      <td>1941.0</td>\n",
              "      <td>1.459160e+03</td>\n",
              "      <td>1.445778e+02</td>\n",
              "      <td>1227.0000</td>\n",
              "      <td>1358.0000</td>\n",
              "      <td>1.364000e+03</td>\n",
              "      <td>1.650000e+03</td>\n",
              "      <td>1.794000e+03</td>\n",
              "    </tr>\n",
              "    <tr>\n",
              "      <th>TYPEOFSTEEL_A300</th>\n",
              "      <td>1941.0</td>\n",
              "      <td>4.003091e-01</td>\n",
              "      <td>4.900872e-01</td>\n",
              "      <td>0.0000</td>\n",
              "      <td>0.0000</td>\n",
              "      <td>0.000000e+00</td>\n",
              "      <td>1.000000e+00</td>\n",
              "      <td>1.000000e+00</td>\n",
              "    </tr>\n",
              "    <tr>\n",
              "      <th>TYPEOFSTEEL_A400</th>\n",
              "      <td>1941.0</td>\n",
              "      <td>5.996909e-01</td>\n",
              "      <td>4.900872e-01</td>\n",
              "      <td>0.0000</td>\n",
              "      <td>0.0000</td>\n",
              "      <td>1.000000e+00</td>\n",
              "      <td>1.000000e+00</td>\n",
              "      <td>1.000000e+00</td>\n",
              "    </tr>\n",
              "    <tr>\n",
              "      <th>STEEL_PLATE_THICKNESS</th>\n",
              "      <td>1941.0</td>\n",
              "      <td>7.873776e+01</td>\n",
              "      <td>5.508603e+01</td>\n",
              "      <td>40.0000</td>\n",
              "      <td>40.0000</td>\n",
              "      <td>7.000000e+01</td>\n",
              "      <td>8.000000e+01</td>\n",
              "      <td>3.000000e+02</td>\n",
              "    </tr>\n",
              "    <tr>\n",
              "      <th>EDGES_INDEX</th>\n",
              "      <td>1941.0</td>\n",
              "      <td>3.317152e-01</td>\n",
              "      <td>2.997117e-01</td>\n",
              "      <td>0.0000</td>\n",
              "      <td>0.0604</td>\n",
              "      <td>2.273000e-01</td>\n",
              "      <td>5.738000e-01</td>\n",
              "      <td>9.952000e-01</td>\n",
              "    </tr>\n",
              "    <tr>\n",
              "      <th>EMPTY_INDEX</th>\n",
              "      <td>1941.0</td>\n",
              "      <td>4.142033e-01</td>\n",
              "      <td>1.372615e-01</td>\n",
              "      <td>0.0000</td>\n",
              "      <td>0.3158</td>\n",
              "      <td>4.121000e-01</td>\n",
              "      <td>5.016000e-01</td>\n",
              "      <td>9.439000e-01</td>\n",
              "    </tr>\n",
              "    <tr>\n",
              "      <th>SQUARE_INDEX</th>\n",
              "      <td>1941.0</td>\n",
              "      <td>5.707671e-01</td>\n",
              "      <td>2.710584e-01</td>\n",
              "      <td>0.0083</td>\n",
              "      <td>0.3613</td>\n",
              "      <td>5.556000e-01</td>\n",
              "      <td>8.182000e-01</td>\n",
              "      <td>1.000000e+00</td>\n",
              "    </tr>\n",
              "    <tr>\n",
              "      <th>OUTSIDE_X_INDEX</th>\n",
              "      <td>1941.0</td>\n",
              "      <td>3.336110e-02</td>\n",
              "      <td>5.896117e-02</td>\n",
              "      <td>0.0015</td>\n",
              "      <td>0.0066</td>\n",
              "      <td>1.010000e-02</td>\n",
              "      <td>2.350000e-02</td>\n",
              "      <td>8.759000e-01</td>\n",
              "    </tr>\n",
              "    <tr>\n",
              "      <th>EDGES_X_INDEX</th>\n",
              "      <td>1941.0</td>\n",
              "      <td>6.105286e-01</td>\n",
              "      <td>2.432769e-01</td>\n",
              "      <td>0.0144</td>\n",
              "      <td>0.4118</td>\n",
              "      <td>6.364000e-01</td>\n",
              "      <td>8.000000e-01</td>\n",
              "      <td>1.000000e+00</td>\n",
              "    </tr>\n",
              "    <tr>\n",
              "      <th>EDGES_Y_INDEX</th>\n",
              "      <td>1941.0</td>\n",
              "      <td>8.134722e-01</td>\n",
              "      <td>2.342736e-01</td>\n",
              "      <td>0.0484</td>\n",
              "      <td>0.5968</td>\n",
              "      <td>9.474000e-01</td>\n",
              "      <td>1.000000e+00</td>\n",
              "      <td>1.000000e+00</td>\n",
              "    </tr>\n",
              "    <tr>\n",
              "      <th>OUTSIDE_GLOBAL_INDEX</th>\n",
              "      <td>1941.0</td>\n",
              "      <td>5.757342e-01</td>\n",
              "      <td>4.823520e-01</td>\n",
              "      <td>0.0000</td>\n",
              "      <td>0.0000</td>\n",
              "      <td>1.000000e+00</td>\n",
              "      <td>1.000000e+00</td>\n",
              "      <td>1.000000e+00</td>\n",
              "    </tr>\n",
              "    <tr>\n",
              "      <th>LOGOFAREAS</th>\n",
              "      <td>1941.0</td>\n",
              "      <td>2.492388e+00</td>\n",
              "      <td>7.889299e-01</td>\n",
              "      <td>0.3010</td>\n",
              "      <td>1.9243</td>\n",
              "      <td>2.240600e+00</td>\n",
              "      <td>2.914900e+00</td>\n",
              "      <td>5.183700e+00</td>\n",
              "    </tr>\n",
              "    <tr>\n",
              "      <th>LOG_X_INDEX</th>\n",
              "      <td>1941.0</td>\n",
              "      <td>1.335686e+00</td>\n",
              "      <td>4.816116e-01</td>\n",
              "      <td>0.3010</td>\n",
              "      <td>1.0000</td>\n",
              "      <td>1.176100e+00</td>\n",
              "      <td>1.518500e+00</td>\n",
              "      <td>3.074100e+00</td>\n",
              "    </tr>\n",
              "    <tr>\n",
              "      <th>LOG_Y_INDEX</th>\n",
              "      <td>1941.0</td>\n",
              "      <td>1.403271e+00</td>\n",
              "      <td>4.543452e-01</td>\n",
              "      <td>0.0000</td>\n",
              "      <td>1.0792</td>\n",
              "      <td>1.322200e+00</td>\n",
              "      <td>1.732400e+00</td>\n",
              "      <td>4.258700e+00</td>\n",
              "    </tr>\n",
              "    <tr>\n",
              "      <th>ORIENTATION_INDEX</th>\n",
              "      <td>1941.0</td>\n",
              "      <td>8.328764e-02</td>\n",
              "      <td>5.008680e-01</td>\n",
              "      <td>-0.9910</td>\n",
              "      <td>-0.3333</td>\n",
              "      <td>9.520000e-02</td>\n",
              "      <td>5.116000e-01</td>\n",
              "      <td>9.917000e-01</td>\n",
              "    </tr>\n",
              "    <tr>\n",
              "      <th>LUMINOSITY_INDEX</th>\n",
              "      <td>1941.0</td>\n",
              "      <td>-1.313050e-01</td>\n",
              "      <td>1.487668e-01</td>\n",
              "      <td>-0.9989</td>\n",
              "      <td>-0.1950</td>\n",
              "      <td>-1.330000e-01</td>\n",
              "      <td>-6.660000e-02</td>\n",
              "      <td>6.421000e-01</td>\n",
              "    </tr>\n",
              "    <tr>\n",
              "      <th>SIGMOIDOFAREAS</th>\n",
              "      <td>1941.0</td>\n",
              "      <td>5.854205e-01</td>\n",
              "      <td>3.394518e-01</td>\n",
              "      <td>0.1190</td>\n",
              "      <td>0.2482</td>\n",
              "      <td>5.063000e-01</td>\n",
              "      <td>9.998000e-01</td>\n",
              "      <td>1.000000e+00</td>\n",
              "    </tr>\n",
              "  </tbody>\n",
              "</table>\n",
              "</div>"
            ],
            "text/plain": [
              "                        count          mean  ...           75%           max\n",
              "X_MINIMUM              1941.0  5.711360e+02  ...  1.053000e+03  1.705000e+03\n",
              "X_MAXIMUM              1941.0  6.179645e+02  ...  1.072000e+03  1.713000e+03\n",
              "Y_MINIMUM              1941.0  1.650685e+06  ...  2.183073e+06  1.298766e+07\n",
              "Y_MAXIMUM              1941.0  1.650739e+06  ...  2.183084e+06  1.298769e+07\n",
              "PIXELS_AREAS           1941.0  1.893878e+03  ...  8.220000e+02  1.526550e+05\n",
              "X_PERIMETER            1941.0  1.118552e+02  ...  8.400000e+01  1.044900e+04\n",
              "Y_PERIMETER            1941.0  8.296600e+01  ...  8.300000e+01  1.815200e+04\n",
              "SUM_OF_LUMINOSITY      1941.0  2.063121e+05  ...  8.301100e+04  1.159141e+07\n",
              "MINIMUM_OF_LUMINOSITY  1941.0  8.454869e+01  ...  1.060000e+02  2.030000e+02\n",
              "MAXIMUM_OF_LUMINOSITY  1941.0  1.301937e+02  ...  1.400000e+02  2.530000e+02\n",
              "LENGTH_OF_CONVEYER     1941.0  1.459160e+03  ...  1.650000e+03  1.794000e+03\n",
              "TYPEOFSTEEL_A300       1941.0  4.003091e-01  ...  1.000000e+00  1.000000e+00\n",
              "TYPEOFSTEEL_A400       1941.0  5.996909e-01  ...  1.000000e+00  1.000000e+00\n",
              "STEEL_PLATE_THICKNESS  1941.0  7.873776e+01  ...  8.000000e+01  3.000000e+02\n",
              "EDGES_INDEX            1941.0  3.317152e-01  ...  5.738000e-01  9.952000e-01\n",
              "EMPTY_INDEX            1941.0  4.142033e-01  ...  5.016000e-01  9.439000e-01\n",
              "SQUARE_INDEX           1941.0  5.707671e-01  ...  8.182000e-01  1.000000e+00\n",
              "OUTSIDE_X_INDEX        1941.0  3.336110e-02  ...  2.350000e-02  8.759000e-01\n",
              "EDGES_X_INDEX          1941.0  6.105286e-01  ...  8.000000e-01  1.000000e+00\n",
              "EDGES_Y_INDEX          1941.0  8.134722e-01  ...  1.000000e+00  1.000000e+00\n",
              "OUTSIDE_GLOBAL_INDEX   1941.0  5.757342e-01  ...  1.000000e+00  1.000000e+00\n",
              "LOGOFAREAS             1941.0  2.492388e+00  ...  2.914900e+00  5.183700e+00\n",
              "LOG_X_INDEX            1941.0  1.335686e+00  ...  1.518500e+00  3.074100e+00\n",
              "LOG_Y_INDEX            1941.0  1.403271e+00  ...  1.732400e+00  4.258700e+00\n",
              "ORIENTATION_INDEX      1941.0  8.328764e-02  ...  5.116000e-01  9.917000e-01\n",
              "LUMINOSITY_INDEX       1941.0 -1.313050e-01  ... -6.660000e-02  6.421000e-01\n",
              "SIGMOIDOFAREAS         1941.0  5.854205e-01  ...  9.998000e-01  1.000000e+00\n",
              "\n",
              "[27 rows x 8 columns]"
            ]
          },
          "metadata": {
            "tags": []
          },
          "execution_count": 6
        }
      ]
    },
    {
      "cell_type": "markdown",
      "metadata": {
        "id": "B26mImh4LUBg"
      },
      "source": [
        "### Explorando alguns gráficos\n"
      ]
    },
    {
      "cell_type": "code",
      "metadata": {
        "id": "f8hgB28MKtZG",
        "colab": {
          "base_uri": "https://localhost:8080/",
          "height": 299
        },
        "outputId": "6502836f-6cd4-44db-fe85-496209d63566"
      },
      "source": [
        "# Usando seaborn\n",
        "sns.countplot(data = steel, x='TARGET')"
      ],
      "execution_count": null,
      "outputs": [
        {
          "output_type": "execute_result",
          "data": {
            "text/plain": [
              "<matplotlib.axes._subplots.AxesSubplot at 0x7f7fc35f3b50>"
            ]
          },
          "metadata": {
            "tags": []
          },
          "execution_count": 7
        },
        {
          "output_type": "display_data",
          "data": {
            "image/png": "[encoded data removed]",
            "text/plain": [
              "<Figure size 432x288 with 1 Axes>"
            ]
          },
          "metadata": {
            "tags": [],
            "needs_background": "light"
          }
        }
      ]
    },
    {
      "cell_type": "code",
      "metadata": {
        "colab": {
          "base_uri": "https://localhost:8080/",
          "height": 371
        },
        "id": "5DEGE1_WZTOZ",
        "outputId": "3891e7df-8167-44c9-cca1-15599d12ef0f"
      },
      "source": [
        "# TODO #3 - Usando seaborn (por exemplo, usar o método relplot) mostrar um gráfico \n",
        "# que apresente a relação entre as variáveis SUM_OF_LUMINOSITY e PIXELS_AREAS.\n",
        "\n",
        "sns.relplot(data=steel, x=\"SUM_OF_LUMINOSITY\", y=\"PIXELS_AREAS\");"
      ],
      "execution_count": null,
      "outputs": [
        {
          "output_type": "display_data",
          "data": {
            "image/png": "[encoded data removed]",
            "text/plain": [
              "<Figure size 360x360 with 1 Axes>"
            ]
          },
          "metadata": {
            "tags": [],
            "needs_background": "light"
          }
        }
      ]
    },
    {
      "cell_type": "code",
      "metadata": {
        "id": "VgSTTLW_6waq",
        "colab": {
          "base_uri": "https://localhost:8080/"
        },
        "outputId": "df52ec64-a09e-4a99-ae90-8cb33bc422b2"
      },
      "source": [
        "from collections import Counter\n",
        "\n",
        "counter = Counter(steel.loc[:, 'TARGET'])\n",
        "print(counter)"
      ],
      "execution_count": null,
      "outputs": [
        {
          "output_type": "stream",
          "text": [
            "Counter({'Other_Faults': 673, 'Bumps': 402, 'K_Scatch': 391, 'Z_Scratch': 190, 'Pastry': 158, 'Stains': 72, 'Dirtiness': 55})\n"
          ],
          "name": "stdout"
        }
      ]
    },
    {
      "cell_type": "code",
      "metadata": {
        "colab": {
          "base_uri": "https://localhost:8080/"
        },
        "id": "KXlIzi2x63Dm",
        "outputId": "15e5e174-3b39-4b0f-d6c1-bc95dd678940"
      },
      "source": [
        "steel.info()"
      ],
      "execution_count": null,
      "outputs": [
        {
          "output_type": "stream",
          "text": [
            "<class 'pandas.core.frame.DataFrame'>\n",
            "RangeIndex: 1941 entries, 0 to 1940\n",
            "Data columns (total 28 columns):\n",
            " #   Column                 Non-Null Count  Dtype  \n",
            "---  ------                 --------------  -----  \n",
            " 0   TARGET                 1941 non-null   object \n",
            " 1   X_MINIMUM              1941 non-null   float64\n",
            " 2   X_MAXIMUM              1941 non-null   float64\n",
            " 3   Y_MINIMUM              1941 non-null   float64\n",
            " 4   Y_MAXIMUM              1941 non-null   float64\n",
            " 5   PIXELS_AREAS           1941 non-null   float64\n",
            " 6   X_PERIMETER            1941 non-null   float64\n",
            " 7   Y_PERIMETER            1941 non-null   float64\n",
            " 8   SUM_OF_LUMINOSITY      1941 non-null   float64\n",
            " 9   MINIMUM_OF_LUMINOSITY  1941 non-null   float64\n",
            " 10  MAXIMUM_OF_LUMINOSITY  1941 non-null   float64\n",
            " 11  LENGTH_OF_CONVEYER     1941 non-null   float64\n",
            " 12  TYPEOFSTEEL_A300       1941 non-null   float64\n",
            " 13  TYPEOFSTEEL_A400       1941 non-null   float64\n",
            " 14  STEEL_PLATE_THICKNESS  1941 non-null   float64\n",
            " 15  EDGES_INDEX            1941 non-null   float64\n",
            " 16  EMPTY_INDEX            1941 non-null   float64\n",
            " 17  SQUARE_INDEX           1941 non-null   float64\n",
            " 18  OUTSIDE_X_INDEX        1941 non-null   float64\n",
            " 19  EDGES_X_INDEX          1941 non-null   float64\n",
            " 20  EDGES_Y_INDEX          1941 non-null   float64\n",
            " 21  OUTSIDE_GLOBAL_INDEX   1941 non-null   float64\n",
            " 22  LOGOFAREAS             1941 non-null   float64\n",
            " 23  LOG_X_INDEX            1941 non-null   float64\n",
            " 24  LOG_Y_INDEX            1941 non-null   float64\n",
            " 25  ORIENTATION_INDEX      1941 non-null   float64\n",
            " 26  LUMINOSITY_INDEX       1941 non-null   float64\n",
            " 27  SIGMOIDOFAREAS         1941 non-null   float64\n",
            "dtypes: float64(27), object(1)\n",
            "memory usage: 424.7+ KB\n"
          ],
          "name": "stdout"
        }
      ]
    },
    {
      "cell_type": "markdown",
      "metadata": {
        "id": "elmM2IzfKtZJ"
      },
      "source": [
        "## 5. Identificando valores ausentes - Missing Values "
      ]
    },
    {
      "cell_type": "code",
      "metadata": {
        "id": "5nz_m7aGKtZK",
        "colab": {
          "base_uri": "https://localhost:8080/"
        },
        "outputId": "7fe2c76c-3551-41fd-be8e-0962a210c40d"
      },
      "source": [
        "#Identifcando valores ausentes \n",
        "print(steel.isnull().sum())"
      ],
      "execution_count": null,
      "outputs": [
        {
          "output_type": "stream",
          "text": [
            "TARGET                   0\n",
            "X_MINIMUM                0\n",
            "X_MAXIMUM                0\n",
            "Y_MINIMUM                0\n",
            "Y_MAXIMUM                0\n",
            "PIXELS_AREAS             0\n",
            "X_PERIMETER              0\n",
            "Y_PERIMETER              0\n",
            "SUM_OF_LUMINOSITY        0\n",
            "MINIMUM_OF_LUMINOSITY    0\n",
            "MAXIMUM_OF_LUMINOSITY    0\n",
            "LENGTH_OF_CONVEYER       0\n",
            "TYPEOFSTEEL_A300         0\n",
            "TYPEOFSTEEL_A400         0\n",
            "STEEL_PLATE_THICKNESS    0\n",
            "EDGES_INDEX              0\n",
            "EMPTY_INDEX              0\n",
            "SQUARE_INDEX             0\n",
            "OUTSIDE_X_INDEX          0\n",
            "EDGES_X_INDEX            0\n",
            "EDGES_Y_INDEX            0\n",
            "OUTSIDE_GLOBAL_INDEX     0\n",
            "LOGOFAREAS               0\n",
            "LOG_X_INDEX              0\n",
            "LOG_Y_INDEX              0\n",
            "ORIENTATION_INDEX        0\n",
            "LUMINOSITY_INDEX         0\n",
            "SIGMOIDOFAREAS           0\n",
            "dtype: int64\n"
          ],
          "name": "stdout"
        }
      ]
    },
    {
      "cell_type": "markdown",
      "metadata": {
        "id": "a1Tm41xrrBA7"
      },
      "source": [
        "##6. Separando as variáveis dependentes das variáveis independentes"
      ]
    },
    {
      "cell_type": "code",
      "metadata": {
        "colab": {
          "base_uri": "https://localhost:8080/"
        },
        "id": "8YNhEI918Ki2",
        "outputId": "d9940f5c-c994-4e43-d806-f192b82166cf"
      },
      "source": [
        "X = steel.loc[:, steel.columns != 'TARGET'] # variáveis independentes\n",
        "y = steel['TARGET'] #target ou variável dependente \n",
        "\n",
        "print(X.shape)\n",
        "print(y.shape)\n",
        "\n",
        "print(X)\n",
        "print(y)"
      ],
      "execution_count": null,
      "outputs": [
        {
          "output_type": "stream",
          "text": [
            "(1941, 27)\n",
            "(1941,)\n",
            "      X_MINIMUM  X_MAXIMUM  ...  LUMINOSITY_INDEX  SIGMOIDOFAREAS\n",
            "0          42.0       50.0  ...           -0.2913          0.5822\n",
            "1         645.0      651.0  ...           -0.1756          0.2984\n",
            "2         829.0      835.0  ...           -0.1228          0.2150\n",
            "3         853.0      860.0  ...           -0.1568          0.5212\n",
            "4        1289.0     1306.0  ...           -0.1992          1.0000\n",
            "...         ...        ...  ...               ...             ...\n",
            "1936      249.0      277.0  ...            0.0026          0.7254\n",
            "1937      144.0      175.0  ...           -0.0582          0.8173\n",
            "1938      145.0      174.0  ...            0.0052          0.7079\n",
            "1939      137.0      170.0  ...           -0.0171          0.9919\n",
            "1940     1261.0     1281.0  ...           -0.1139          0.5296\n",
            "\n",
            "[1941 rows x 27 columns]\n",
            "0             Pastry\n",
            "1             Pastry\n",
            "2             Pastry\n",
            "3             Pastry\n",
            "4             Pastry\n",
            "            ...     \n",
            "1936    Other_Faults\n",
            "1937    Other_Faults\n",
            "1938    Other_Faults\n",
            "1939    Other_Faults\n",
            "1940    Other_Faults\n",
            "Name: TARGET, Length: 1941, dtype: object\n"
          ],
          "name": "stdout"
        }
      ]
    },
    {
      "cell_type": "code",
      "metadata": {
        "id": "GKxApxRSKtZP"
      },
      "source": [
        "#Separação do dataset em treinamento e tests\n",
        "X_train, X_test, y_train, y_test = train_test_split(X, y, \n",
        "                                                    test_size=0.30, random_state=42)"
      ],
      "execution_count": null,
      "outputs": []
    },
    {
      "cell_type": "markdown",
      "metadata": {
        "id": "GwlrVmlsQXwV"
      },
      "source": [
        "## 7. Feature Scaling\n",
        "\n",
        "Uma das transformações mais importantes que você precisa aplicar aos seus dados é o dimensionamento de recursos (feature scaling). Com poucas exceções, os algoritmos de Aprendizado de Máquina não apresentam bom desempenho quando os atributos numéricos de entrada possuem escalas muito diferentes."
      ]
    },
    {
      "cell_type": "code",
      "metadata": {
        "id": "p9RrTvCBKtZR",
        "colab": {
          "base_uri": "https://localhost:8080/",
          "height": 454
        },
        "outputId": "bbe6eaf8-656b-4c26-cc2b-56e39feb28ae"
      },
      "source": [
        "transformator = StandardScaler()\n",
        "X_train = transformator.fit_transform(X_train)\n",
        "X_test = transformator.fit_transform(X_test)\n",
        "\n",
        "display(X_train)\n",
        "display(X_test)"
      ],
      "execution_count": null,
      "outputs": [
        {
          "output_type": "display_data",
          "data": {
            "text/plain": [
              "array([[-0.98092525, -0.84116281,  3.63697701, ..., -1.47692834,\n",
              "        -0.15336504,  1.24210091],\n",
              "       [ 1.08237115,  1.05790621, -0.60257863, ...,  1.41539032,\n",
              "        -0.07050487,  0.20775849],\n",
              "       [ 0.90144777,  0.87627367, -0.18061767, ...,  1.11870079,\n",
              "        -0.4744482 ,  0.55075902],\n",
              "       ...,\n",
              "       [ 0.06227125, -0.01574386,  0.33237375, ...,  0.88567421,\n",
              "         0.2098387 , -1.09718641],\n",
              "       [-0.69799189, -0.80887258,  0.8642272 , ...,  0.00995506,\n",
              "         0.08623895, -1.14525396],\n",
              "       [ 0.46068763,  0.42824677, -0.47024282, ...,  0.33190766,\n",
              "         0.03514184,  0.73739166]])"
            ]
          },
          "metadata": {
            "tags": []
          }
        },
        {
          "output_type": "display_data",
          "data": {
            "text/plain": [
              "array([[ 1.09730297,  1.1249009 , -0.27170494, ...,  0.52889422,\n",
              "        -0.33126476,  1.17587738],\n",
              "       [ 1.96912755,  2.0350291 , -0.71650963, ...,  0.97855699,\n",
              "        -1.44715997,  1.17587738],\n",
              "       [ 2.05535196,  2.07095521,  0.1961161 , ...,  0.19106266,\n",
              "        -1.16643961, -0.98045453],\n",
              "       ...,\n",
              "       [-1.00274041, -1.08455506,  0.59689457, ..., -0.2586001 ,\n",
              "         0.10505852,  0.8717272 ],\n",
              "       [ 1.40004645,  1.4163016 , -0.43301621, ..., -1.66740056,\n",
              "         0.76811749, -1.04488329],\n",
              "       [ 0.70450288,  0.67183269,  0.97588135, ..., -0.88808901,\n",
              "         1.03105466, -1.00976671]])"
            ]
          },
          "metadata": {
            "tags": []
          }
        }
      ]
    },
    {
      "cell_type": "code",
      "metadata": {
        "id": "AosQ99unemvN"
      },
      "source": [
        "# Criando uma coleção (lista) de classificadores \n",
        "classifiers = []"
      ],
      "execution_count": null,
      "outputs": []
    },
    {
      "cell_type": "markdown",
      "metadata": {
        "id": "qg71JwmMQ5LJ"
      },
      "source": [
        "## 8. Criando o classificador de Logistic Regression para o conjunto de treinamento \n"
      ]
    },
    {
      "cell_type": "code",
      "metadata": {
        "id": "QtIVxgsOKtZT"
      },
      "source": [
        "# TODO: Instanciar um classificador para Regressão Logística (Logistic Regression)\n",
        "classifier = LogisticRegression(random_state=0, solver='newton-cg')\n",
        "\n",
        "# Treinando o modelo\n",
        "classifier.fit(X_train, y_train)\n",
        "\n",
        "classifiers.append(classifier)\n",
        "\n",
        "# Fonte: https://scikit-learn.org/stable/modules/generated/sklearn.linear_model.LogisticRegression.html"
      ],
      "execution_count": null,
      "outputs": []
    },
    {
      "cell_type": "code",
      "metadata": {
        "id": "RvzCBqd8KtZV"
      },
      "source": [
        "# Prevendo alguns valores com o conjunto de dados de teste\n",
        "\n",
        "#Sem indicação de probabilidade\n",
        "y_pred = classifier.predict(X_test) "
      ],
      "execution_count": null,
      "outputs": []
    },
    {
      "cell_type": "code",
      "metadata": {
        "id": "zRHnYJ1geb2X"
      },
      "source": [
        "classifier = DecisionTreeClassifier(random_state=0)\n",
        "\n",
        "# Treinando o modelo\n",
        "classifier.fit(X_train, y_train)\n",
        "\n",
        "# Adicionando o novo classificador a lista de classificadores\n",
        "classifiers.append(classifier)"
      ],
      "execution_count": null,
      "outputs": []
    },
    {
      "cell_type": "code",
      "metadata": {
        "id": "RKIQohdueb_L"
      },
      "source": [
        "# Prevendo alguns valores com o conjunto de dados de teste\n",
        "\n",
        "#Sem indicação de probabilidade\n",
        "y_pred = classifier.predict(X_test) "
      ],
      "execution_count": null,
      "outputs": []
    },
    {
      "cell_type": "markdown",
      "metadata": {
        "id": "lIuhlqCJRuuE"
      },
      "source": [
        "## 9. Verificando a acurácia do modelo utilizado\n",
        "\n",
        "Precisão é uma métrica para avaliar modelos de classificação. Informalmente, a precisão é a fração de previsões que nosso modelo acertou. "
      ]
    },
    {
      "cell_type": "code",
      "metadata": {
        "id": "9PNuH9PDKtZY",
        "colab": {
          "base_uri": "https://localhost:8080/"
        },
        "outputId": "e28c1710-3861-45e7-e6c3-539f0b18eb4c"
      },
      "source": [
        "# Acurácia do Logistic Regression e Decision Tree\n",
        "\n",
        "for clf in classifiers:\n",
        "    clf.fit(X_train, y_train)\n",
        "    y_pred = clf.predict(X_test)\n",
        "    print()\n",
        "    print(clf.__class__.__name__, accuracy_score(y_test, y_pred))"
      ],
      "execution_count": null,
      "outputs": [
        {
          "output_type": "stream",
          "text": [
            "\n",
            "LogisticRegression 0.7272727272727273\n",
            "\n",
            "DecisionTreeClassifier 0.40308747855917665\n"
          ],
          "name": "stdout"
        }
      ]
    },
    {
      "cell_type": "markdown",
      "metadata": {
        "id": "vbcDAp_3fZld"
      },
      "source": [
        "## TODO: Responder a pergunta: \n",
        "**Qual classificador teve melhor performance, se observarmos somente a métrica da acurácia?**"
      ]
    },
    {
      "cell_type": "markdown",
      "metadata": {
        "id": "JGpry3rM5C9l"
      },
      "source": [
        "LogisticRegression 0.7272727272727273\n"
      ]
    },
    {
      "cell_type": "code",
      "metadata": {
        "id": "WxUvkRIY5Exk"
      },
      "source": [
        ""
      ],
      "execution_count": null,
      "outputs": []
    }
  ]
}